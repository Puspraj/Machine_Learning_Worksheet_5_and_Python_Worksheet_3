{
 "cells": [
  {
   "cell_type": "code",
   "execution_count": 2,
   "metadata": {},
   "outputs": [
    {
     "name": "stdout",
     "output_type": "stream",
     "text": [
      "        A \r\n",
      "       A B \r\n",
      "      A B C \r\n",
      "     A B C D \r\n",
      "    A B C D E \r\n",
      "   A B C D E F \r\n",
      "    G H I J K \r\n",
      "     L M N O \r\n",
      "      P Q R \r\n",
      "       S T \r\n",
      "        U \r\n"
     ]
    }
   ],
   "source": [
    "def Carcter_pattern(n):\n",
    "    k = 2 * n - 2\n",
    "    for i in range(0, n):\n",
    "        for j in range(0, k):\n",
    "            print(end=\" \")\n",
    "        k = k - 1\n",
    "        x = 65\n",
    "        for j in range(0, i + 1):\n",
    "            ch = chr(x)\n",
    "            print(ch, end=\" \")\n",
    "            x += 1\n",
    "        print(\"\\r\")\n",
    "    k = n - 2\n",
    "    x = 65\n",
    "    for i in range(n, -1, -1):\n",
    "        for j in range(k, 0, -1):\n",
    "            print(end=\" \")\n",
    "        k = k + 1\n",
    "        for j in range(0, i + 1):\n",
    "            ch = chr(x)\n",
    "            print(ch, end=\" \")\n",
    "            x += 1\n",
    "        print(\"\\r\")\n",
    " \n",
    " \n",
    "Carcter_pattern(5)"
   ]
  },
  {
   "cell_type": "code",
   "execution_count": null,
   "metadata": {},
   "outputs": [],
   "source": []
  }
 ],
 "metadata": {
  "kernelspec": {
   "display_name": "Python 3",
   "language": "python",
   "name": "python3"
  },
  "language_info": {
   "codemirror_mode": {
    "name": "ipython",
    "version": 3
   },
   "file_extension": ".py",
   "mimetype": "text/x-python",
   "name": "python",
   "nbconvert_exporter": "python",
   "pygments_lexer": "ipython3",
   "version": "3.7.4"
  }
 },
 "nbformat": 4,
 "nbformat_minor": 2
}
